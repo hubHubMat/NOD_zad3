


import pandas as pd
df = pd.read_csv("data.csv")
print(df.head())
print(df.info())
print(df.describe())





df['wmn_hh'] = pd.to_numeric(df['wmn_hh'], errors='coerce').fillna(0)


print(df['wmn_hh'])
mean_wmn_hh = df['wmn_hh'].mean()
print(mean_wmn_hh)




