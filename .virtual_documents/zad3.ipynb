


import pandas as pd
import numpy as np
df = pd.read_csv("data.csv")
print(df.head())
print(df.info())
print(df.describe())








df['wmn_hh'] = pd.to_numeric(df['wmn_hh'], errors='coerce')





#print(df['wmn_hh'])
#mean_wmn_hh = df['wmn_hh'].mean()
#print(mean_wmn_hh)






missing_values = df.isnull().sum()
print("Brakujace wartosci w kazdej kolumnie:")
print(missing_values)

# Oblicz średnią dla kolumny 'wmn_hh', ignorując brakujące wartości
mean_wmn_hh = df['wmn_hh'].mean()

# Wypełnij brakujące wartości średnią
df['wmn_hh'].fillna(mean_wmn_hh, inplace=True)

print(df['wmn_hh'])

df.dropna(subset=['wmn_pregnancy_change'], inplace=True)





# Oblicz IQR
Q1 = df['wmn_hh'].quantile(0.25)
Q3 = df['wmn_hh'].quantile(0.75)
IQR = Q3 - Q1

# Zidentyfikuj wartoci odstajce
outliers = df[(df['wmn_hh'] < (Q1 - 1.5 * IQR)) | (df['wmn_hh'] > (Q3 + 1.5 * IQR))]
print("Wartoci odstajace:")
print(outliers)





df['random_values'] = np.random.randint(1, 16, size=len(df))

print(df[['wmn_hh', 'random_values']])





new_df = df[['wmn_hh', 'random_values']].copy()

print(new_df)
# Oblicz macierz korelacji
correlation_matrix = new_df.corr()
print("Macierz korelacji:")
print(correlation_matrix)
# Wykonaj wykres rozrzutu
df.plot.scatter(x='wmn_hh', y='random_values')






# Dodaj now kolumn ’ dochd na osob ’
df['wmn_hh_add_5'] = df['wmn_hh'] + 5
# Grupuj dane wedug kolumny ’region’ i oblicz redni dochd
grouped = df.groupby('country')['wmn_hh'].mean()
print(" Srednie wmn_hh w krajach:")
print(grouped)

# Posortuj dane wedug kolumny ’dochd’
df_sorted = df.sort_values(by='wmn_hh', ascending=False)
print("Dane posortowane wedug wmn_hh:")
print(df_sorted.head())



